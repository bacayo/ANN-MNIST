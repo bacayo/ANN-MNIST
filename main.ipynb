{
 "cells": [
  {
   "cell_type": "code",
   "execution_count": 1,
   "metadata": {},
   "outputs": [],
   "source": [
    "# Importing libraries\r\n",
    "import numpy as np\r\n",
    "import pandas as pd\r\n",
    "import tensorflow as tf"
   ]
  },
  {
   "cell_type": "code",
   "execution_count": 2,
   "metadata": {},
   "outputs": [],
   "source": [
    "# Importing dataset for training and test set\r\n",
    "dataset_train = pd.read_csv('mnist_train.csv')\r\n",
    "dataset_test = pd.read_csv('mnist_test.csv')"
   ]
  },
  {
   "cell_type": "code",
   "execution_count": 3,
   "metadata": {},
   "outputs": [],
   "source": [
    "# Splitting data into training and test set\r\n",
    "X_train = dataset_train.iloc[:,1:].values\r\n",
    "y_train = dataset_train.iloc[:,0].values\r\n",
    "\r\n",
    "X_test = dataset_test.iloc[:,1:].values\r\n",
    "y_test = dataset_test.iloc[:,0].values"
   ]
  },
  {
   "cell_type": "code",
   "execution_count": 4,
   "metadata": {},
   "outputs": [
    {
     "name": "stdout",
     "output_type": "stream",
     "text": [
      "(60000, 784) (60000,) (10000, 784) (10000,)\n"
     ]
    }
   ],
   "source": [
    "# Printing size of matrixes\r\n",
    "print(X_train.shape,y_train.shape,X_test.shape,y_test.shape)"
   ]
  },
  {
   "cell_type": "code",
   "execution_count": 5,
   "metadata": {},
   "outputs": [],
   "source": [
    "# Feature scaling\r\n",
    "from sklearn.preprocessing import MinMaxScaler\r\n",
    "scaler = MinMaxScaler()\r\n",
    "X_train_scaled =  scaler.fit_transform(X_train)\r\n",
    "X_test_scaled = scaler.transform(X_test)"
   ]
  },
  {
   "cell_type": "code",
   "execution_count": 6,
   "metadata": {},
   "outputs": [],
   "source": [
    "# Building and initializing the ann\r\n",
    "from keras.models import Sequential\r\n",
    "classifier = Sequential()"
   ]
  },
  {
   "cell_type": "code",
   "execution_count": 7,
   "metadata": {},
   "outputs": [],
   "source": [
    "#Adding the input layer and the first hidden layer\r\n",
    "from keras.layers import Dense\r\n",
    "classifier.add(Dense(units=128,activation='relu'))"
   ]
  },
  {
   "cell_type": "code",
   "execution_count": 8,
   "metadata": {},
   "outputs": [],
   "source": [
    "#Adding the second hidden layer\r\n",
    "classifier.add(Dense(units=256,activation='relu'))"
   ]
  },
  {
   "cell_type": "code",
   "execution_count": 9,
   "metadata": {},
   "outputs": [],
   "source": [
    "#Adding the output layer\r\n",
    "classifier.add(Dense(units=10,activation='sigmoid'))"
   ]
  },
  {
   "cell_type": "code",
   "execution_count": 10,
   "metadata": {},
   "outputs": [],
   "source": [
    "# Compiling the ANN\r\n",
    "classifier.compile(optimizer='adam',loss='sparse_categorical_crossentropy',metrics=['accuracy'])"
   ]
  },
  {
   "cell_type": "code",
   "execution_count": 11,
   "metadata": {},
   "outputs": [
    {
     "name": "stdout",
     "output_type": "stream",
     "text": [
      "Epoch 1/25\n",
      "1875/1875 [==============================] - 16s 731us/step - loss: 0.3895 - accuracy: 0.8820\n",
      "Epoch 2/25\n",
      "1875/1875 [==============================] - 1s 727us/step - loss: 0.0985 - accuracy: 0.9700\n",
      "Epoch 3/25\n",
      "1875/1875 [==============================] - 1s 732us/step - loss: 0.0664 - accuracy: 0.9794\n",
      "Epoch 4/25\n",
      "1875/1875 [==============================] - 1s 741us/step - loss: 0.0485 - accuracy: 0.9841\n",
      "Epoch 5/25\n",
      "1875/1875 [==============================] - 1s 762us/step - loss: 0.0338 - accuracy: 0.9889\n",
      "Epoch 6/25\n",
      "1875/1875 [==============================] - 1s 729us/step - loss: 0.0287 - accuracy: 0.9901\n",
      "Epoch 7/25\n",
      "1875/1875 [==============================] - 1s 784us/step - loss: 0.0237 - accuracy: 0.9922\n",
      "Epoch 8/25\n",
      "1875/1875 [==============================] - 1s 747us/step - loss: 0.0214 - accuracy: 0.9930\n",
      "Epoch 9/25\n",
      "1875/1875 [==============================] - 2s 858us/step - loss: 0.0177 - accuracy: 0.9947\n",
      "Epoch 10/25\n",
      "1875/1875 [==============================] - 2s 833us/step - loss: 0.0184 - accuracy: 0.9939\n",
      "Epoch 11/25\n",
      "1875/1875 [==============================] - 1s 799us/step - loss: 0.0141 - accuracy: 0.9953\n",
      "Epoch 12/25\n",
      "1875/1875 [==============================] - 2s 839us/step - loss: 0.0122 - accuracy: 0.9958\n",
      "Epoch 13/25\n",
      "1875/1875 [==============================] - 2s 840us/step - loss: 0.0139 - accuracy: 0.9958\n",
      "Epoch 14/25\n",
      "1875/1875 [==============================] - 1s 787us/step - loss: 0.0106 - accuracy: 0.9967\n",
      "Epoch 15/25\n",
      "1875/1875 [==============================] - 1s 782us/step - loss: 0.0076 - accuracy: 0.9973\n",
      "Epoch 16/25\n",
      "1875/1875 [==============================] - 1s 760us/step - loss: 0.0124 - accuracy: 0.9962\n",
      "Epoch 17/25\n",
      "1875/1875 [==============================] - 1s 785us/step - loss: 0.0107 - accuracy: 0.9967\n",
      "Epoch 18/25\n",
      "1875/1875 [==============================] - 2s 814us/step - loss: 0.0097 - accuracy: 0.9967\n",
      "Epoch 19/25\n",
      "1875/1875 [==============================] - 2s 814us/step - loss: 0.0097 - accuracy: 0.9973\n",
      "Epoch 20/25\n",
      "1875/1875 [==============================] - 2s 919us/step - loss: 0.0078 - accuracy: 0.9971\n",
      "Epoch 21/25\n",
      "1875/1875 [==============================] - 2s 902us/step - loss: 0.0099 - accuracy: 0.9972\n",
      "Epoch 22/25\n",
      "1875/1875 [==============================] - 2s 900us/step - loss: 0.0096 - accuracy: 0.9971\n",
      "Epoch 23/25\n",
      "1875/1875 [==============================] - 2s 900us/step - loss: 0.0111 - accuracy: 0.9967\n",
      "Epoch 24/25\n",
      "1875/1875 [==============================] - 2s 905us/step - loss: 0.0095 - accuracy: 0.9972\n",
      "Epoch 25/25\n",
      "1875/1875 [==============================] - 2s 915us/step - loss: 0.0106 - accuracy: 0.9970\n"
     ]
    },
    {
     "data": {
      "text/plain": [
       "<keras.callbacks.History at 0x23c05a3d130>"
      ]
     },
     "execution_count": 11,
     "metadata": {},
     "output_type": "execute_result"
    }
   ],
   "source": [
    "# Training the ANN on the Training set\r\n",
    "classifier.fit(X_train_scaled,y_train,batch_size=32,epochs=25)"
   ]
  },
  {
   "cell_type": "code",
   "execution_count": 12,
   "metadata": {},
   "outputs": [
    {
     "name": "stdout",
     "output_type": "stream",
     "text": [
      "0.001\n"
     ]
    }
   ],
   "source": [
    "# Calculating learning rate according to Adam algorithm\r\n",
    "from keras.backend import eval\r\n",
    "learning_rate = eval(classifier.optimizer.lr)\r\n",
    "print(learning_rate)"
   ]
  },
  {
   "cell_type": "code",
   "execution_count": 13,
   "metadata": {},
   "outputs": [
    {
     "name": "stdout",
     "output_type": "stream",
     "text": [
      "Model: \"sequential\"\n",
      "_________________________________________________________________\n",
      "Layer (type)                 Output Shape              Param #   \n",
      "=================================================================\n",
      "dense (Dense)                (32, 128)                 100480    \n",
      "_________________________________________________________________\n",
      "dense_1 (Dense)              (32, 256)                 33024     \n",
      "_________________________________________________________________\n",
      "dense_2 (Dense)              (32, 10)                  2570      \n",
      "=================================================================\n",
      "Total params: 136,074\n",
      "Trainable params: 136,074\n",
      "Non-trainable params: 0\n",
      "_________________________________________________________________\n"
     ]
    }
   ],
   "source": [
    "classifier.summary()"
   ]
  },
  {
   "cell_type": "code",
   "execution_count": 14,
   "metadata": {},
   "outputs": [],
   "source": [
    "\r\n",
    "from sklearn.metrics import f1_score,roc_auc_score\r\n",
    "y_pred = classifier.predict(X_test_scaled)"
   ]
  },
  {
   "cell_type": "code",
   "execution_count": 15,
   "metadata": {},
   "outputs": [
    {
     "name": "stdout",
     "output_type": "stream",
     "text": [
      "   Test accuracy  F1 score  Total Loss\n",
      "0          0.978     0.978       0.153\n"
     ]
    },
    {
     "name": "stderr",
     "output_type": "stream",
     "text": [
      "C:\\Users\\batu\\AppData\\Local\\Programs\\Python\\Python38\\lib\\site-packages\\keras\\engine\\sequential.py:450: UserWarning: `model.predict_classes()` is deprecated and will be removed after 2021-01-01. Please use instead:* `np.argmax(model.predict(x), axis=-1)`,   if your model does multi-class classification   (e.g. if it uses a `softmax` last-layer activation).* `(model.predict(x) > 0.5).astype(\"int32\")`,   if your model does binary classification   (e.g. if it uses a `sigmoid` last-layer activation).\n",
      "  warnings.warn('`model.predict_classes()` is deprecated and '\n"
     ]
    }
   ],
   "source": [
    "# Predicting the test set results and f1 score\r\n",
    "test_loss = classifier.evaluate(X_test_scaled, y_test, verbose=0)\r\n",
    "#calculate evaluation parameters\r\n",
    "f1 = f1_score(y_test, classifier.predict_classes(X_test_scaled), average='micro')\r\n",
    "stats = pd.DataFrame({'Test accuracy' :  round(test_loss[1],3),\r\n",
    "                      'F1 score'      : round(f1,3),\r\n",
    "                      'Total Loss'    : round(test_loss[0],3)}, index=[0])\r\n",
    "#print evaluation dataframe\r\n",
    "print(stats)"
   ]
  }
 ],
 "metadata": {
  "interpreter": {
   "hash": "9e36ca881fa748d4e9fea9d9f7a0a05eab744e88d46f654e3f5c2c42d826b82d"
  },
  "kernelspec": {
   "display_name": "Python 3.8.6 64-bit",
   "name": "python3"
  },
  "language_info": {
   "codemirror_mode": {
    "name": "ipython",
    "version": 3
   },
   "file_extension": ".py",
   "mimetype": "text/x-python",
   "name": "python",
   "nbconvert_exporter": "python",
   "pygments_lexer": "ipython3",
   "version": "3.8.6"
  },
  "orig_nbformat": 4
 },
 "nbformat": 4,
 "nbformat_minor": 2
}